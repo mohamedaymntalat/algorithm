{
 "cells": [
  {
   "cell_type": "code",
   "execution_count": 1,
   "id": "54c8d7ad",
   "metadata": {},
   "outputs": [],
   "source": [
    "import numpy as np"
   ]
  },
  {
   "cell_type": "code",
   "execution_count": 2,
   "id": "9487d698",
   "metadata": {},
   "outputs": [
    {
     "name": "stdout",
     "output_type": "stream",
     "text": [
      "[[ 250  260  270  280]\n",
      " [ 618  644  670  696]\n",
      " [ 986 1028 1070 1112]\n",
      " [1354 1412 1470 1528]]\n"
     ]
    }
   ],
   "source": [
    "def split(matrix):\n",
    "    row, col = matrix.shape\n",
    "    row2, col2 = row // 2, col // 2\n",
    "    return matrix[:row2, :col2], matrix[:row2, col2:], matrix[row2:, :col2], matrix[row2:, col2:]\n",
    "\n",
    "def strassen(matrix_a, matrix_b):\n",
    "    # Base case: if the matrix is 1x1\n",
    "    if len(matrix_a) == 1:\n",
    "        return matrix_a * matrix_b\n",
    "    \n",
    "    # Splitting the matrices into quarters\n",
    "    a11, a12, a21, a22 = split(matrix_a)\n",
    "    b11, b12, b21, b22 = split(matrix_b)\n",
    "    \n",
    "    # Recursive steps\n",
    "    p1 = strassen(a11 + a22, b11 + b22)\n",
    "    p2 = strassen(a21 + a22, b11)\n",
    "    p3 = strassen(a11, b12 - b22)\n",
    "    p4 = strassen(a22, b21 - b11)\n",
    "    p5 = strassen(a11 + a12, b22)\n",
    "    p6 = strassen(a21 - a11, b11 + b12)\n",
    "    p7 = strassen(a12 - a22, b21 + b22)\n",
    "    \n",
    "    # Calculating the resulting submatrices\n",
    "    c11 = p1 + p4 - p5 + p7\n",
    "    c12 = p3 + p5\n",
    "    c21 = p2 + p4\n",
    "    c22 = p1 - p2 + p3 + p6\n",
    "    \n",
    "    # Combining the submatrices into a single matrix\n",
    "    result = np.vstack((np.hstack((c11, c12)), np.hstack((c21, c22))))\n",
    "    \n",
    "    return result\n",
    "\n",
    "# Test the implementation\n",
    "A = np.array([[1, 2, 3, 4],\n",
    "              [5, 6, 7, 8],\n",
    "              [9, 10, 11, 12],\n",
    "              [13, 14, 15, 16]])\n",
    "\n",
    "B = np.array([[17, 18, 19, 20],\n",
    "              [21, 22, 23, 24],\n",
    "              [25, 26, 27, 28],\n",
    "              [29, 30, 31, 32]])\n",
    "\n",
    "C = strassen(A, B)\n",
    "print(C)"
   ]
  },
  {
   "cell_type": "markdown",
   "id": "50123ca9",
   "metadata": {},
   "source": []
  }
 ],
 "metadata": {
  "kernelspec": {
   "display_name": "Python 3 (ipykernel)",
   "language": "python",
   "name": "python3"
  },
  "language_info": {
   "codemirror_mode": {
    "name": "ipython",
    "version": 3
   },
   "file_extension": ".py",
   "mimetype": "text/x-python",
   "name": "python",
   "nbconvert_exporter": "python",
   "pygments_lexer": "ipython3",
   "version": "3.9.12"
  }
 },
 "nbformat": 4,
 "nbformat_minor": 5
}
